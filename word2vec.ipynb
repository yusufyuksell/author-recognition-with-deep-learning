{
 "cells": [
  {
   "cell_type": "code",
   "execution_count": 1,
   "id": "b9fe4c5f",
   "metadata": {},
   "outputs": [
    {
     "name": "stderr",
     "output_type": "stream",
     "text": [
      "C:\\Users\\HP\\anaconda3\\lib\\site-packages\\gensim\\similarities\\__init__.py:15: UserWarning: The gensim.similarities.levenshtein submodule is disabled, because the optional Levenshtein package <https://pypi.org/project/python-Levenshtein/> is unavailable. Install Levenhstein (e.g. `pip install python-Levenshtein`) to suppress this warning.\n",
      "  warnings.warn(msg)\n"
     ]
    }
   ],
   "source": [
    "from tabulate import tabulate\n",
    "import numpy as np\n",
    "import matplotlib.pyplot as plt\n",
    "from gensim.models import Word2Vec\n",
    "from gensim.test.utils import common_texts\n",
    "from sklearn.manifold import TSNE\n",
    "import os\n",
    "import nltk\n",
    "from nltk.tokenize import word_tokenize,sent_tokenize\n",
    "from nltk.corpus import stopwords\n",
    "from snowballstemmer import TurkishStemmer\n",
    "from gensim.models import KeyedVectors\n",
    "from gensim.models.word2vec import LineSentence\n"
   ]
  },
  {
   "cell_type": "code",
   "execution_count": 2,
   "id": "b9851b6f",
   "metadata": {},
   "outputs": [],
   "source": [
    "punctuiations = \"!#$%&'()*+,-./:’;<=>?@[\\]^_`{|}~'\"\n",
    "\n",
    "textfile = open('yazi.txt','r',encoding=\"utf-8\")\n",
    "str = textfile.read()\n",
    "\n",
    "#print(str)\n",
    "\n",
    "no_punct = \" \"\n",
    "\n",
    "for char in str:\n",
    "    if(char not in punctuiations):\n",
    "        no_punct = no_punct + char"
   ]
  },
  {
   "cell_type": "code",
   "execution_count": 3,
   "id": "47bb4f39",
   "metadata": {},
   "outputs": [
    {
     "name": "stdout",
     "output_type": "stream",
     "text": [
      "['acaba', 'ama', 'aslında', 'az', 'bazı', 'belki', 'biri', 'birkaç', 'birşey', 'biz', 'bu', 'çok', 'çünkü', 'da', 'daha', 'de', 'defa', 'diye', 'eğer', 'en', 'gibi', 'hem', 'hep', 'hepsi', 'her', 'hiç', 'için', 'ile', 'ise', 'kez', 'ki', 'kim', 'mı', 'mu', 'mü', 'nasıl', 'ne', 'neden', 'nerde', 'nerede', 'nereye', 'niçin', 'niye', 'o', 'sanki', 'şey', 'siz', 'şu', 'tüm', 've', 'veya', 'ya', 'yani', '’de', '”', '“', 'eden', '➔']\n"
     ]
    }
   ],
   "source": [
    "stop_words = stopwords.words('turkish')\n",
    "new_stopwords = [\"’de\", \"”\", \"“\", \"eden\", \"➔\"]\n",
    "stop_words.extend(new_stopwords)\n",
    "\n",
    "print(stop_words)"
   ]
  },
  {
   "cell_type": "code",
   "execution_count": 4,
   "id": "017bb8f8",
   "metadata": {},
   "outputs": [],
   "source": [
    "tokenize_words = word_tokenize(no_punct)\n",
    "tokenize_words_without_stopwords = []\n",
    "\n",
    "for word in tokenize_words:\n",
    "    if word not in stop_words:\n",
    "        tokenize_words_without_stopwords.append(word)\n",
    "\n",
    "#print(tokenize_words_without_stopwords)"
   ]
  },
  {
   "cell_type": "code",
   "execution_count": 5,
   "id": "7a90e3a1",
   "metadata": {
    "scrolled": true
   },
   "outputs": [
    {
     "name": "stdout",
     "output_type": "stream",
     "text": [
      "Dünya\n",
      "savaş\n",
      "erkek\n",
      "çıkarıyor\n",
      "kadın\n",
      "bir\n",
      "twerk\n",
      "tweet\n",
      "hareket\n",
      "ulusal\n",
      "güvenlik\n",
      "sor\n",
      "olabiliyor\n",
      "Eril\n",
      "düze\n",
      "ke\n",
      "iş\n",
      "gele\n",
      "ahlak\n",
      "anlayış\n",
      "üzer\n",
      "kurgulayıp\n",
      "kadın\n",
      "biçtik\n",
      "pozisyo\n",
      "evrensel\n",
      "Bir\n",
      "topl\n",
      "hak\n",
      "inanç\n",
      "sistem\n",
      "refah\n",
      "mutluluk\n",
      "gelişmişlik\n",
      "düze\n",
      "katiye\n",
      "belirleyiç\n",
      "kriter\n",
      "değil\n",
      "Dok\n",
      "Bat\n",
      "ara\n",
      "u\n",
      "mükemmel\n",
      "Netice\n",
      "parti\n",
      "kulüp\n",
      "görüntü\n",
      "sızdırıla\n",
      "Finlandi\n",
      "Başbaka\n",
      "Sanna\n",
      "Mar\n",
      "Twitterda\n",
      "kadı\n",
      "hak\n",
      "savunduk\n",
      "34\n",
      "yıl\n",
      "hapis\n",
      "ceza\n",
      "çarptırıla\n",
      "Suudi\n",
      "Selma\n",
      "el\n",
      "Şahap\n",
      "maruz\n",
      "kaldık\n",
      "suçlama\n",
      "aynı\n",
      "Evet\n",
      "yaptır\n",
      "eşik\n",
      "birbir\n",
      "açık\n",
      "ar\n",
      "uzak\n",
      "ikis\n",
      "sorumsuz\n",
      "hareket\n",
      "ülke\n",
      "ulusal\n",
      "güvenlik\n",
      "tehlike\n",
      "düşür\n",
      "Bö\n",
      "buyur\n",
      "patriyarka\n",
      "Selma\n",
      "el\n",
      "Şahap\n",
      "bugu\n",
      "kadar\n",
      "Suudi\n",
      "Arabista\n",
      "bir\n",
      "kadı\n",
      "veril\n",
      "ağır\n",
      "ceza\n",
      "çarptırıl\n",
      "İki\n",
      "çocuk\n",
      "annes\n",
      "Selma\n",
      "İngiltere\n",
      "Leeds\n",
      "Üniversite\n",
      "doktor\n",
      "yapar\n",
      "Suudi\n",
      "cezaev\n",
      "tutuklu\n",
      "hükümlü\n",
      "yüz\n",
      "kadı\n",
      "aktivis\n",
      "serbest\n",
      "bırakılmas\n",
      "sosyal\n",
      "medya\n",
      "kampanya\n",
      "destek\n",
      "veriyor\n",
      "Kadın\n",
      "direksiyo\n",
      "yasak\n",
      "kaldırılma\n",
      "ö\n",
      "otomobil\n",
      "kullandık\n",
      "hap\n",
      "düşe\n",
      "geçe\n",
      "yıl\n",
      "yurt\n",
      "dış\n",
      "çıkış\n",
      "yasak\n",
      "salıverile\n",
      "Luceyn\n",
      "el\n",
      "Hezlul\n",
      "idi\n",
      "mesela\n"
     ]
    }
   ],
   "source": [
    "stammer = TurkishStemmer()\n",
    "input_str = tokenize_words_without_stopwords\n",
    "\n",
    "for word in input_str:\n",
    "    print(stammer.stemWord(word))"
   ]
  },
  {
   "cell_type": "code",
   "execution_count": 6,
   "id": "97159967",
   "metadata": {},
   "outputs": [],
   "source": [
    "t_list = str.split(\"\\n\")\n",
    "corpus = []\n",
    "for cumle in t_list:\n",
    "    corpus.append(cumle.split())"
   ]
  },
  {
   "cell_type": "code",
   "execution_count": 7,
   "id": "219096c9",
   "metadata": {},
   "outputs": [
    {
     "name": "stdout",
     "output_type": "stream",
     "text": [
      "[[], ['Dünyada', 'savaşları', 'erkekler', 'çıkarıyor', 'ama', 'kadınlar', 'bir', 'twerk', 'ya', 'da', 'tweet', 'hareketiyle', 'ulusal', 'güvenlik', 'sorunu', 'olabiliyor.', 'Eril', 'düzenin', 'kendi', 'işine', 'gelen', 'ahlak', 'anlayışı', 'üzerinden', 'kurgulayıp', 'kadınlara', 'biçtiği', 'bu', 'pozisyon', 'çok', 'evrensel.', 'Bir', 'topluma', 'hakim', 'inanç', 'sistemiyle', 'refah,', 'mutluluk', 've', 'gelişmişlik', 'düzeyi', 'katiyen', 'belirleyici', 'kriter', 'değil.', 'Doğu', 've', 'Batı', 'arasında', 'uyum', 'mükemmel.', 'Neticede', 'parti', 've', 'kulüp', 'görüntüleri', 'sızdırılan', 'Finlandiya', 'Başbakanı', 'Sanna', 'Marin', 'ile', 'Twitter’da', 'kadın', 'haklarını', 'savunduğu', 'için', '34', 'yıl', 'hapis', 'cezasına', 'çarptırılan', 'Suudi', 'Selma', 'el', 'Şahab’ın', 'maruz', 'kaldığı', 'suçlamalar', 'aynı.'], [], ['Evet', 'yaptırım', 'eşiği', 'birbirine', 'açık', 'ara', 'çok', 'uzak', 'ama', 'her', 'ikisi', 'de', '“sorumsuz”', 'hareketleriyle', 'ülkelerinin', '“ulusal', 'güvenliğini”', 'tehlikeye', 'düşürdü.', 'Böyle', 'buyurdu', 'patriyarka.'], [], ['Selma', 'el', 'Şahab,', 'bugüne', 'kadar', 'Suudi', 'Arabistan’da', 'bir', 'kadına', 'verilmiş', 'en', 'ağır', 'cezaya', 'çarptırıldı.', 'İki', 'çocuk', 'annesi', 'Selma', 'İngiltere’de', 'Leeds', 'Üniversitesi’nde', 'doktora', 'yaparken,', 'Suudi', 'cezaevlerinde', 'tutuklu', 've', 'hükümlü', 'yüzlerce', 'kadın', 'aktivistin', 'serbest', 'bırakılması', 'için', 'sosyal', 'medyadaki', 'kampanyalara', 'destek', 'veriyordu.', 'Kadınlardan', 'biri,', 'direksiyon', 'yasağı', 'kaldırılmadan', 'önce', 'otomobil', 'kullandığı', 'için', 'hapse', 'düşen', 've', 'geçen', 'yıl', 'yurt', 'dışına', 'çıkış', 'yasağıyla', 'salıverilen', 'Luceyn', 'el', 'Hezlul', 'idi', 'mesela.'], [], []]\n"
     ]
    }
   ],
   "source": [
    "print(corpus[:10])"
   ]
  },
  {
   "cell_type": "code",
   "execution_count": 8,
   "id": "7f5d8219",
   "metadata": {},
   "outputs": [
    {
     "data": {
      "text/plain": [
       "array([-0.00515774, -0.00667028, -0.0077791 ,  0.00831315, -0.00198292,\n",
       "       -0.00685696, -0.0041556 ,  0.00514562, -0.00286997, -0.00375075,\n",
       "        0.0016219 , -0.0027771 , -0.00158482,  0.0010748 , -0.00297881,\n",
       "        0.00852176,  0.00391207, -0.00996176,  0.00626142, -0.00675622,\n",
       "        0.00076966,  0.00440552, -0.00510486, -0.00211128,  0.00809783,\n",
       "       -0.00424503, -0.00763848,  0.00926061, -0.00215612, -0.00472081,\n",
       "        0.00857329,  0.00428458,  0.0043261 ,  0.00928722, -0.00845554,\n",
       "        0.00525685,  0.00203994,  0.0041895 ,  0.00169839,  0.00446543,\n",
       "        0.00448759,  0.0061063 , -0.00320303, -0.00457706, -0.00042664,\n",
       "        0.00253447, -0.00326412,  0.00605948,  0.00415534,  0.00776685,\n",
       "        0.00257002,  0.00811904, -0.00138761,  0.00808028,  0.0037181 ,\n",
       "       -0.00804967, -0.00393476, -0.0024726 ,  0.00489447, -0.00087241,\n",
       "       -0.00283173,  0.00783599,  0.00932561, -0.0016154 , -0.00516075,\n",
       "       -0.00470313, -0.00484746, -0.00960562,  0.00137242, -0.00422615,\n",
       "        0.00252744,  0.00561612, -0.00406709, -0.00959937,  0.00154715,\n",
       "       -0.00670207,  0.0024959 , -0.00378173,  0.00708048,  0.00064041,\n",
       "        0.00356198, -0.00273993, -0.00171105,  0.00765502,  0.00140809,\n",
       "       -0.00585215, -0.00783678,  0.00123304,  0.00645651,  0.00555797,\n",
       "       -0.00897966,  0.00859466,  0.00404815,  0.00747178,  0.00974917,\n",
       "       -0.0072917 , -0.00904259,  0.0058377 ,  0.00939395,  0.00350795],\n",
       "      dtype=float32)"
      ]
     },
     "execution_count": 8,
     "metadata": {},
     "output_type": "execute_result"
    }
   ],
   "source": [
    "model = Word2Vec(sentences=common_texts, vector_size=100, window=5, min_count=1, workers=4)\n",
    "\n",
    "model.wv[\"computer\"]"
   ]
  },
  {
   "cell_type": "code",
   "execution_count": 9,
   "id": "e39ddda5",
   "metadata": {},
   "outputs": [],
   "source": [
    "word_vectors = KeyedVectors.load_word2vec_format('trmodel', binary=True)"
   ]
  },
  {
   "cell_type": "code",
   "execution_count": 10,
   "id": "f54869ce",
   "metadata": {
    "scrolled": true
   },
   "outputs": [
    {
     "data": {
      "text/plain": [
       "0.094138525"
      ]
     },
     "execution_count": 10,
     "metadata": {},
     "output_type": "execute_result"
    }
   ],
   "source": [
    "word_vectors.similarity('adam' , 'erkek')"
   ]
  },
  {
   "cell_type": "code",
   "execution_count": 11,
   "id": "f3586d46",
   "metadata": {},
   "outputs": [
    {
     "name": "stdout",
     "output_type": "stream",
     "text": [
      "Kelime         Benzerlik Skoru\n",
      "-----------  -----------------\n",
      "tenisi                0.685384\n",
      "bilardo               0.648688\n",
      "sandalyeler           0.565512\n",
      "paten                 0.564805\n",
      "tahtası               0.543269\n",
      "iskambil              0.537474\n",
      "sehpa                 0.532158\n",
      "okçuluk               0.517023\n",
      "briç                  0.511307\n",
      "masalar               0.506896\n"
     ]
    }
   ],
   "source": [
    "print(tabulate(word_vectors.most_similar(\"masa\"), headers=[\"Kelime\", \"Benzerlik Skoru\"]))"
   ]
  },
  {
   "cell_type": "code",
   "execution_count": 12,
   "id": "23478a5c",
   "metadata": {
    "scrolled": true
   },
   "outputs": [
    {
     "data": {
      "text/plain": [
       "array([ 8.97991378e-03, -3.75192650e-02,  4.67979833e-02, -7.42478147e-02,\n",
       "        6.20086007e-02,  1.22287665e-02, -1.26750380e-01, -6.69981837e-02,\n",
       "        2.42533702e-02,  1.67761296e-02, -3.24771483e-03, -4.99420837e-02,\n",
       "        3.79960611e-02,  6.86969310e-02,  1.26792053e-02,  1.50035421e-05,\n",
       "        2.39570662e-02,  1.77633241e-02,  4.51159850e-02, -1.80582367e-02,\n",
       "       -4.63443138e-02,  2.98772752e-03, -3.26308683e-02,  1.30472621e-02,\n",
       "       -3.24488394e-02, -1.90284289e-02, -1.08590163e-02, -6.49720132e-02,\n",
       "        6.00871332e-02, -7.17482017e-03, -5.52024245e-02,  8.95751640e-02,\n",
       "        5.78748547e-02,  3.43827717e-02,  3.82319055e-02, -1.06329927e-02,\n",
       "       -3.10561415e-02, -1.65655985e-02,  3.70363854e-02,  2.39709821e-02,\n",
       "        2.34058611e-02, -9.73402523e-03, -7.76281357e-02, -7.93724903e-04,\n",
       "       -9.03484784e-03,  2.88015809e-02, -2.85772998e-02,  1.01006545e-01,\n",
       "       -4.58308458e-02, -2.83394326e-02, -4.57964279e-02,  1.18048489e-01,\n",
       "       -4.01295424e-02, -2.71794070e-02,  1.74969435e-02,  5.51057281e-03,\n",
       "        7.21461326e-02, -3.23033519e-02,  1.32908687e-01,  8.55458006e-02,\n",
       "       -2.07943860e-02,  2.86217630e-02, -9.34632346e-02,  9.82453860e-03,\n",
       "       -4.66409372e-03, -1.19784892e-01, -2.93720346e-02,  3.66718248e-02,\n",
       "       -1.30394753e-02,  4.16330993e-02, -1.55446529e-02, -2.30897926e-02,\n",
       "       -2.55686026e-02, -7.20860884e-02,  1.96184851e-02, -2.20147776e-03,\n",
       "       -6.74298266e-03,  1.87592208e-02,  1.20242588e-01,  3.07387765e-02,\n",
       "       -1.81085691e-02,  6.87524956e-03,  3.02727968e-02,  4.02921364e-02,\n",
       "       -7.16382638e-02,  4.88640275e-03, -6.63417205e-02,  5.35372552e-03,\n",
       "       -3.18448991e-02, -3.04585081e-02, -9.09075420e-03, -1.68888792e-02,\n",
       "        8.40361882e-03, -1.60674490e-02,  6.77824765e-02,  2.88522840e-02,\n",
       "       -3.61463265e-03,  4.44517173e-02,  5.85791506e-02,  2.53533293e-02,\n",
       "        6.76104575e-02,  8.41836631e-02,  2.00789291e-02, -8.78975913e-02,\n",
       "       -2.98843849e-02,  2.46664789e-02, -1.14267208e-02,  3.31666172e-02,\n",
       "        8.52238014e-02,  3.67497955e-03,  5.54078491e-03,  3.20088789e-02,\n",
       "        2.58345511e-02, -1.70064606e-02, -2.65291333e-03,  5.51925600e-03,\n",
       "       -9.20774881e-03, -3.79441530e-02, -3.68331037e-02, -3.28044035e-02,\n",
       "       -3.66020240e-02, -8.35250244e-02,  2.35823896e-02, -9.78096761e-03,\n",
       "        6.09130785e-02,  1.22398874e-02,  6.79087192e-02, -2.54097907e-03,\n",
       "       -2.19493592e-03, -4.99306172e-02,  2.32245177e-02,  2.47130189e-02,\n",
       "        7.09726736e-02,  2.36491133e-02,  2.64961366e-02, -7.23142326e-02,\n",
       "       -1.01971701e-02,  3.34634483e-02,  5.24865501e-02, -3.98655497e-02,\n",
       "       -3.60847190e-02, -4.20585573e-02, -3.25982459e-02,  4.73794006e-02,\n",
       "        6.92153126e-02,  7.17829214e-03, -5.72597049e-03, -8.56301710e-02,\n",
       "        1.77512038e-02,  3.28355841e-02,  8.71303082e-02,  1.71779934e-02,\n",
       "       -4.42904718e-02, -1.71901472e-02, -2.08132304e-02,  6.71147183e-03,\n",
       "       -1.16928695e-02, -1.69243745e-03,  3.72249261e-02, -2.89682467e-02,\n",
       "        5.51395416e-02,  1.20053114e-03,  7.71736279e-02, -3.47486809e-02,\n",
       "        1.91648770e-02,  5.62408641e-02, -6.23989813e-02,  1.40836798e-02,\n",
       "       -3.79800610e-02,  1.79285239e-02,  6.87767044e-02,  2.93733347e-02,\n",
       "       -1.50675159e-02,  1.77958757e-02, -2.37619374e-02,  3.11653558e-02,\n",
       "       -3.94897200e-02, -7.31855910e-03, -5.13027310e-02,  1.47848517e-01,\n",
       "       -2.00745445e-02,  2.10325774e-02, -4.63580936e-02, -1.19844731e-02,\n",
       "       -2.71930806e-02, -3.33267078e-02, -1.35180214e-03,  1.25872344e-02,\n",
       "        2.43616644e-02,  8.66132788e-03, -1.46822324e-02, -4.02692780e-02,\n",
       "        6.54362664e-02, -2.42721122e-02,  3.36374603e-02, -1.52336806e-01,\n",
       "        8.85369107e-02,  3.93583067e-03, -8.30570143e-03, -2.76902746e-02,\n",
       "        1.60557609e-02,  3.50215100e-02, -6.00014739e-02,  5.57738878e-02,\n",
       "        5.81095293e-02, -9.31019560e-02, -2.88954042e-02,  2.24724263e-02,\n",
       "        6.37014285e-02, -1.59739237e-02, -9.36926827e-02,  7.50434818e-03,\n",
       "        7.32578989e-03,  1.48221375e-02,  6.03620708e-02, -1.87526252e-02,\n",
       "       -8.93237907e-03, -3.92405540e-02, -1.01669775e-02,  5.93532100e-02,\n",
       "       -5.61053567e-02,  7.07336664e-02, -8.34293105e-03,  3.61146848e-03,\n",
       "       -7.08507895e-02, -6.93634227e-02, -8.40498228e-03,  2.45698951e-02,\n",
       "        5.65364920e-02, -6.64963573e-02,  3.51225920e-02,  7.52524883e-02,\n",
       "       -6.94007427e-03,  8.30137506e-02, -2.95552518e-03, -2.76417769e-02,\n",
       "       -5.71395718e-02, -9.56136063e-02,  6.19810447e-02, -7.46599138e-02,\n",
       "       -2.48124767e-02,  8.66183490e-02,  2.02647783e-02,  5.43653034e-02,\n",
       "        2.16164943e-02, -3.38003971e-03, -2.38648504e-02, -8.11724663e-02,\n",
       "        1.20705441e-02, -1.53439445e-02,  3.08384690e-02,  1.28835440e-01,\n",
       "       -4.12983969e-02,  1.49193788e-02, -5.77009507e-02, -2.91822590e-02,\n",
       "        4.02024724e-02,  7.34162554e-02, -4.10509519e-02,  6.82895556e-02,\n",
       "        7.28233233e-02, -7.06635714e-02, -3.76560614e-02,  2.14599948e-02,\n",
       "       -2.79467944e-02, -6.09984733e-02, -9.49546769e-02,  4.85622510e-02,\n",
       "       -8.42251033e-02, -2.15937477e-02,  7.74429319e-03,  6.55417070e-02,\n",
       "       -1.08276671e-02,  2.94281114e-02,  3.90807427e-02, -7.19751120e-02,\n",
       "        4.54446208e-03, -2.32828967e-02,  4.23757918e-02,  1.48717966e-02,\n",
       "       -2.56483834e-02,  3.84166241e-02, -8.81834552e-02, -4.53442372e-02,\n",
       "       -5.21354787e-02, -4.28685322e-02,  2.17804816e-04,  2.12096591e-02,\n",
       "       -4.12320718e-02,  4.13190387e-02, -5.27122319e-02,  7.44865313e-02,\n",
       "        8.28676820e-02,  1.49110526e-01, -4.11574990e-02, -2.89894193e-02,\n",
       "       -3.67598236e-02,  4.77874838e-02, -1.24060765e-01,  4.02006917e-02,\n",
       "       -2.34436672e-02, -2.61558294e-02,  5.15791662e-02,  4.39078314e-03,\n",
       "        7.83885363e-03,  2.42251754e-02, -2.68749315e-02,  1.88965164e-02,\n",
       "       -4.01275679e-02, -3.01268604e-02,  2.90740114e-02,  8.56346171e-03,\n",
       "       -9.70038772e-03, -3.56687419e-02,  9.69073102e-02, -6.52629510e-02,\n",
       "       -4.99993786e-02, -9.87339392e-03, -1.26779666e-02, -4.07396033e-02,\n",
       "       -7.92587828e-03, -6.97752535e-02, -2.96490453e-02, -4.55102436e-02,\n",
       "       -6.23673499e-02, -1.20160170e-01,  4.75410558e-02,  4.32540774e-02,\n",
       "       -1.02979662e-02, -5.64593300e-02, -5.71121881e-03, -8.56173337e-02,\n",
       "       -4.52481993e-02, -3.24973725e-02,  4.36733700e-02,  3.35291065e-02,\n",
       "        9.78894830e-02, -2.14515049e-02,  4.69185319e-03, -7.63887241e-02,\n",
       "       -5.23349084e-02, -8.26622397e-02,  4.58744634e-03,  1.71936564e-02,\n",
       "       -3.58896516e-02, -7.73135573e-02, -1.14723993e-02, -7.21416399e-02,\n",
       "       -3.74814053e-03, -6.58794353e-03, -3.54749039e-02, -4.23610434e-02,\n",
       "        3.28947231e-02, -5.28628714e-02, -1.25412578e-02,  1.91762485e-02,\n",
       "        9.23561826e-02,  5.21484762e-04,  8.36163238e-02,  6.37049824e-02,\n",
       "        9.16379169e-02, -5.85180856e-02,  2.79548913e-02,  5.83537892e-02,\n",
       "        3.81620713e-02, -3.05202398e-02,  3.95612568e-02,  2.97583267e-03,\n",
       "       -4.07140292e-02,  1.30883798e-01, -8.07511732e-02,  4.40672450e-02,\n",
       "       -1.81098040e-02, -2.92904861e-02,  4.73236963e-02,  2.05084891e-03,\n",
       "        4.67388332e-02,  7.52950385e-02, -6.70987591e-02, -4.73546721e-02,\n",
       "        6.90529719e-02,  3.73209454e-03, -7.62590691e-02,  7.19548166e-02,\n",
       "       -4.85785343e-02,  2.96020624e-03,  3.23215947e-02,  3.48471403e-02,\n",
       "        3.62844169e-02,  9.80951414e-02, -4.39828485e-02, -1.21685535e-01,\n",
       "       -3.31244171e-02, -7.58651120e-04, -6.03856146e-02, -5.89416064e-02,\n",
       "       -1.86884888e-02, -1.22204348e-02, -6.54229373e-02, -5.07221855e-02],\n",
       "      dtype=float32)"
      ]
     },
     "execution_count": 12,
     "metadata": {},
     "output_type": "execute_result"
    }
   ],
   "source": [
    "word_vectors.get_vector(\"masa\", norm=True)"
   ]
  },
  {
   "cell_type": "code",
   "execution_count": null,
   "id": "e9bf2212",
   "metadata": {},
   "outputs": [],
   "source": []
  },
  {
   "cell_type": "code",
   "execution_count": null,
   "id": "d90d8cc5",
   "metadata": {},
   "outputs": [],
   "source": []
  }
 ],
 "metadata": {
  "kernelspec": {
   "display_name": "Python 3",
   "language": "python",
   "name": "python3"
  },
  "language_info": {
   "codemirror_mode": {
    "name": "ipython",
    "version": 3
   },
   "file_extension": ".py",
   "mimetype": "text/x-python",
   "name": "python",
   "nbconvert_exporter": "python",
   "pygments_lexer": "ipython3",
   "version": "3.8.8"
  }
 },
 "nbformat": 4,
 "nbformat_minor": 5
}
